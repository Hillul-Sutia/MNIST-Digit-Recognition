{
 "cells": [
  {
   "cell_type": "markdown",
   "id": "f8d6b972",
   "metadata": {},
   "source": [
    "## Importing libraries"
   ]
  },
  {
   "cell_type": "code",
   "execution_count": 1,
   "id": "4cc15ce5",
   "metadata": {},
   "outputs": [],
   "source": [
    "import matplotlib\n",
    "import matplotlib.pyplot as plt\n",
    "import numpy as np\n",
    "from sklearn.datasets import fetch_openml"
   ]
  },
  {
   "cell_type": "code",
   "execution_count": 2,
   "id": "450a6de7",
   "metadata": {},
   "outputs": [],
   "source": [
    "mnist = fetch_openml('mnist_784',as_frame = False) # fetches mnist handwritten digit dataset"
   ]
  },
  {
   "cell_type": "code",
   "execution_count": 3,
   "id": "80b1383d",
   "metadata": {},
   "outputs": [
    {
     "name": "stdout",
     "output_type": "stream",
     "text": [
      "<class 'sklearn.utils.Bunch'>\n"
     ]
    }
   ],
   "source": [
    "print(type(mnist)) # Bunch is a subclass of class Dictionary"
   ]
  },
  {
   "cell_type": "markdown",
   "id": "170779fb",
   "metadata": {},
   "source": [
    "## Preparing Dataset "
   ]
  },
  {
   "cell_type": "code",
   "execution_count": 4,
   "id": "23e57cd4",
   "metadata": {},
   "outputs": [
    {
     "name": "stdout",
     "output_type": "stream",
     "text": [
      "{'data': array([[0., 0., 0., ..., 0., 0., 0.],\n",
      "       [0., 0., 0., ..., 0., 0., 0.],\n",
      "       [0., 0., 0., ..., 0., 0., 0.],\n",
      "       ...,\n",
      "       [0., 0., 0., ..., 0., 0., 0.],\n",
      "       [0., 0., 0., ..., 0., 0., 0.],\n",
      "       [0., 0., 0., ..., 0., 0., 0.]]), 'target': array(['5', '0', '4', ..., '4', '5', '6'], dtype=object), 'frame': None, 'categories': {}, 'feature_names': ['pixel1', 'pixel2', 'pixel3', 'pixel4', 'pixel5', 'pixel6', 'pixel7', 'pixel8', 'pixel9', 'pixel10', 'pixel11', 'pixel12', 'pixel13', 'pixel14', 'pixel15', 'pixel16', 'pixel17', 'pixel18', 'pixel19', 'pixel20', 'pixel21', 'pixel22', 'pixel23', 'pixel24', 'pixel25', 'pixel26', 'pixel27', 'pixel28', 'pixel29', 'pixel30', 'pixel31', 'pixel32', 'pixel33', 'pixel34', 'pixel35', 'pixel36', 'pixel37', 'pixel38', 'pixel39', 'pixel40', 'pixel41', 'pixel42', 'pixel43', 'pixel44', 'pixel45', 'pixel46', 'pixel47', 'pixel48', 'pixel49', 'pixel50', 'pixel51', 'pixel52', 'pixel53', 'pixel54', 'pixel55', 'pixel56', 'pixel57', 'pixel58', 'pixel59', 'pixel60', 'pixel61', 'pixel62', 'pixel63', 'pixel64', 'pixel65', 'pixel66', 'pixel67', 'pixel68', 'pixel69', 'pixel70', 'pixel71', 'pixel72', 'pixel73', 'pixel74', 'pixel75', 'pixel76', 'pixel77', 'pixel78', 'pixel79', 'pixel80', 'pixel81', 'pixel82', 'pixel83', 'pixel84', 'pixel85', 'pixel86', 'pixel87', 'pixel88', 'pixel89', 'pixel90', 'pixel91', 'pixel92', 'pixel93', 'pixel94', 'pixel95', 'pixel96', 'pixel97', 'pixel98', 'pixel99', 'pixel100', 'pixel101', 'pixel102', 'pixel103', 'pixel104', 'pixel105', 'pixel106', 'pixel107', 'pixel108', 'pixel109', 'pixel110', 'pixel111', 'pixel112', 'pixel113', 'pixel114', 'pixel115', 'pixel116', 'pixel117', 'pixel118', 'pixel119', 'pixel120', 'pixel121', 'pixel122', 'pixel123', 'pixel124', 'pixel125', 'pixel126', 'pixel127', 'pixel128', 'pixel129', 'pixel130', 'pixel131', 'pixel132', 'pixel133', 'pixel134', 'pixel135', 'pixel136', 'pixel137', 'pixel138', 'pixel139', 'pixel140', 'pixel141', 'pixel142', 'pixel143', 'pixel144', 'pixel145', 'pixel146', 'pixel147', 'pixel148', 'pixel149', 'pixel150', 'pixel151', 'pixel152', 'pixel153', 'pixel154', 'pixel155', 'pixel156', 'pixel157', 'pixel158', 'pixel159', 'pixel160', 'pixel161', 'pixel162', 'pixel163', 'pixel164', 'pixel165', 'pixel166', 'pixel167', 'pixel168', 'pixel169', 'pixel170', 'pixel171', 'pixel172', 'pixel173', 'pixel174', 'pixel175', 'pixel176', 'pixel177', 'pixel178', 'pixel179', 'pixel180', 'pixel181', 'pixel182', 'pixel183', 'pixel184', 'pixel185', 'pixel186', 'pixel187', 'pixel188', 'pixel189', 'pixel190', 'pixel191', 'pixel192', 'pixel193', 'pixel194', 'pixel195', 'pixel196', 'pixel197', 'pixel198', 'pixel199', 'pixel200', 'pixel201', 'pixel202', 'pixel203', 'pixel204', 'pixel205', 'pixel206', 'pixel207', 'pixel208', 'pixel209', 'pixel210', 'pixel211', 'pixel212', 'pixel213', 'pixel214', 'pixel215', 'pixel216', 'pixel217', 'pixel218', 'pixel219', 'pixel220', 'pixel221', 'pixel222', 'pixel223', 'pixel224', 'pixel225', 'pixel226', 'pixel227', 'pixel228', 'pixel229', 'pixel230', 'pixel231', 'pixel232', 'pixel233', 'pixel234', 'pixel235', 'pixel236', 'pixel237', 'pixel238', 'pixel239', 'pixel240', 'pixel241', 'pixel242', 'pixel243', 'pixel244', 'pixel245', 'pixel246', 'pixel247', 'pixel248', 'pixel249', 'pixel250', 'pixel251', 'pixel252', 'pixel253', 'pixel254', 'pixel255', 'pixel256', 'pixel257', 'pixel258', 'pixel259', 'pixel260', 'pixel261', 'pixel262', 'pixel263', 'pixel264', 'pixel265', 'pixel266', 'pixel267', 'pixel268', 'pixel269', 'pixel270', 'pixel271', 'pixel272', 'pixel273', 'pixel274', 'pixel275', 'pixel276', 'pixel277', 'pixel278', 'pixel279', 'pixel280', 'pixel281', 'pixel282', 'pixel283', 'pixel284', 'pixel285', 'pixel286', 'pixel287', 'pixel288', 'pixel289', 'pixel290', 'pixel291', 'pixel292', 'pixel293', 'pixel294', 'pixel295', 'pixel296', 'pixel297', 'pixel298', 'pixel299', 'pixel300', 'pixel301', 'pixel302', 'pixel303', 'pixel304', 'pixel305', 'pixel306', 'pixel307', 'pixel308', 'pixel309', 'pixel310', 'pixel311', 'pixel312', 'pixel313', 'pixel314', 'pixel315', 'pixel316', 'pixel317', 'pixel318', 'pixel319', 'pixel320', 'pixel321', 'pixel322', 'pixel323', 'pixel324', 'pixel325', 'pixel326', 'pixel327', 'pixel328', 'pixel329', 'pixel330', 'pixel331', 'pixel332', 'pixel333', 'pixel334', 'pixel335', 'pixel336', 'pixel337', 'pixel338', 'pixel339', 'pixel340', 'pixel341', 'pixel342', 'pixel343', 'pixel344', 'pixel345', 'pixel346', 'pixel347', 'pixel348', 'pixel349', 'pixel350', 'pixel351', 'pixel352', 'pixel353', 'pixel354', 'pixel355', 'pixel356', 'pixel357', 'pixel358', 'pixel359', 'pixel360', 'pixel361', 'pixel362', 'pixel363', 'pixel364', 'pixel365', 'pixel366', 'pixel367', 'pixel368', 'pixel369', 'pixel370', 'pixel371', 'pixel372', 'pixel373', 'pixel374', 'pixel375', 'pixel376', 'pixel377', 'pixel378', 'pixel379', 'pixel380', 'pixel381', 'pixel382', 'pixel383', 'pixel384', 'pixel385', 'pixel386', 'pixel387', 'pixel388', 'pixel389', 'pixel390', 'pixel391', 'pixel392', 'pixel393', 'pixel394', 'pixel395', 'pixel396', 'pixel397', 'pixel398', 'pixel399', 'pixel400', 'pixel401', 'pixel402', 'pixel403', 'pixel404', 'pixel405', 'pixel406', 'pixel407', 'pixel408', 'pixel409', 'pixel410', 'pixel411', 'pixel412', 'pixel413', 'pixel414', 'pixel415', 'pixel416', 'pixel417', 'pixel418', 'pixel419', 'pixel420', 'pixel421', 'pixel422', 'pixel423', 'pixel424', 'pixel425', 'pixel426', 'pixel427', 'pixel428', 'pixel429', 'pixel430', 'pixel431', 'pixel432', 'pixel433', 'pixel434', 'pixel435', 'pixel436', 'pixel437', 'pixel438', 'pixel439', 'pixel440', 'pixel441', 'pixel442', 'pixel443', 'pixel444', 'pixel445', 'pixel446', 'pixel447', 'pixel448', 'pixel449', 'pixel450', 'pixel451', 'pixel452', 'pixel453', 'pixel454', 'pixel455', 'pixel456', 'pixel457', 'pixel458', 'pixel459', 'pixel460', 'pixel461', 'pixel462', 'pixel463', 'pixel464', 'pixel465', 'pixel466', 'pixel467', 'pixel468', 'pixel469', 'pixel470', 'pixel471', 'pixel472', 'pixel473', 'pixel474', 'pixel475', 'pixel476', 'pixel477', 'pixel478', 'pixel479', 'pixel480', 'pixel481', 'pixel482', 'pixel483', 'pixel484', 'pixel485', 'pixel486', 'pixel487', 'pixel488', 'pixel489', 'pixel490', 'pixel491', 'pixel492', 'pixel493', 'pixel494', 'pixel495', 'pixel496', 'pixel497', 'pixel498', 'pixel499', 'pixel500', 'pixel501', 'pixel502', 'pixel503', 'pixel504', 'pixel505', 'pixel506', 'pixel507', 'pixel508', 'pixel509', 'pixel510', 'pixel511', 'pixel512', 'pixel513', 'pixel514', 'pixel515', 'pixel516', 'pixel517', 'pixel518', 'pixel519', 'pixel520', 'pixel521', 'pixel522', 'pixel523', 'pixel524', 'pixel525', 'pixel526', 'pixel527', 'pixel528', 'pixel529', 'pixel530', 'pixel531', 'pixel532', 'pixel533', 'pixel534', 'pixel535', 'pixel536', 'pixel537', 'pixel538', 'pixel539', 'pixel540', 'pixel541', 'pixel542', 'pixel543', 'pixel544', 'pixel545', 'pixel546', 'pixel547', 'pixel548', 'pixel549', 'pixel550', 'pixel551', 'pixel552', 'pixel553', 'pixel554', 'pixel555', 'pixel556', 'pixel557', 'pixel558', 'pixel559', 'pixel560', 'pixel561', 'pixel562', 'pixel563', 'pixel564', 'pixel565', 'pixel566', 'pixel567', 'pixel568', 'pixel569', 'pixel570', 'pixel571', 'pixel572', 'pixel573', 'pixel574', 'pixel575', 'pixel576', 'pixel577', 'pixel578', 'pixel579', 'pixel580', 'pixel581', 'pixel582', 'pixel583', 'pixel584', 'pixel585', 'pixel586', 'pixel587', 'pixel588', 'pixel589', 'pixel590', 'pixel591', 'pixel592', 'pixel593', 'pixel594', 'pixel595', 'pixel596', 'pixel597', 'pixel598', 'pixel599', 'pixel600', 'pixel601', 'pixel602', 'pixel603', 'pixel604', 'pixel605', 'pixel606', 'pixel607', 'pixel608', 'pixel609', 'pixel610', 'pixel611', 'pixel612', 'pixel613', 'pixel614', 'pixel615', 'pixel616', 'pixel617', 'pixel618', 'pixel619', 'pixel620', 'pixel621', 'pixel622', 'pixel623', 'pixel624', 'pixel625', 'pixel626', 'pixel627', 'pixel628', 'pixel629', 'pixel630', 'pixel631', 'pixel632', 'pixel633', 'pixel634', 'pixel635', 'pixel636', 'pixel637', 'pixel638', 'pixel639', 'pixel640', 'pixel641', 'pixel642', 'pixel643', 'pixel644', 'pixel645', 'pixel646', 'pixel647', 'pixel648', 'pixel649', 'pixel650', 'pixel651', 'pixel652', 'pixel653', 'pixel654', 'pixel655', 'pixel656', 'pixel657', 'pixel658', 'pixel659', 'pixel660', 'pixel661', 'pixel662', 'pixel663', 'pixel664', 'pixel665', 'pixel666', 'pixel667', 'pixel668', 'pixel669', 'pixel670', 'pixel671', 'pixel672', 'pixel673', 'pixel674', 'pixel675', 'pixel676', 'pixel677', 'pixel678', 'pixel679', 'pixel680', 'pixel681', 'pixel682', 'pixel683', 'pixel684', 'pixel685', 'pixel686', 'pixel687', 'pixel688', 'pixel689', 'pixel690', 'pixel691', 'pixel692', 'pixel693', 'pixel694', 'pixel695', 'pixel696', 'pixel697', 'pixel698', 'pixel699', 'pixel700', 'pixel701', 'pixel702', 'pixel703', 'pixel704', 'pixel705', 'pixel706', 'pixel707', 'pixel708', 'pixel709', 'pixel710', 'pixel711', 'pixel712', 'pixel713', 'pixel714', 'pixel715', 'pixel716', 'pixel717', 'pixel718', 'pixel719', 'pixel720', 'pixel721', 'pixel722', 'pixel723', 'pixel724', 'pixel725', 'pixel726', 'pixel727', 'pixel728', 'pixel729', 'pixel730', 'pixel731', 'pixel732', 'pixel733', 'pixel734', 'pixel735', 'pixel736', 'pixel737', 'pixel738', 'pixel739', 'pixel740', 'pixel741', 'pixel742', 'pixel743', 'pixel744', 'pixel745', 'pixel746', 'pixel747', 'pixel748', 'pixel749', 'pixel750', 'pixel751', 'pixel752', 'pixel753', 'pixel754', 'pixel755', 'pixel756', 'pixel757', 'pixel758', 'pixel759', 'pixel760', 'pixel761', 'pixel762', 'pixel763', 'pixel764', 'pixel765', 'pixel766', 'pixel767', 'pixel768', 'pixel769', 'pixel770', 'pixel771', 'pixel772', 'pixel773', 'pixel774', 'pixel775', 'pixel776', 'pixel777', 'pixel778', 'pixel779', 'pixel780', 'pixel781', 'pixel782', 'pixel783', 'pixel784'], 'target_names': ['class'], 'DESCR': \"**Author**: Yann LeCun, Corinna Cortes, Christopher J.C. Burges  \\n**Source**: [MNIST Website](http://yann.lecun.com/exdb/mnist/) - Date unknown  \\n**Please cite**:  \\n\\nThe MNIST database of handwritten digits with 784 features, raw data available at: http://yann.lecun.com/exdb/mnist/. It can be split in a training set of the first 60,000 examples, and a test set of 10,000 examples  \\n\\nIt is a subset of a larger set available from NIST. The digits have been size-normalized and centered in a fixed-size image. It is a good database for people who want to try learning techniques and pattern recognition methods on real-world data while spending minimal efforts on preprocessing and formatting. The original black and white (bilevel) images from NIST were size normalized to fit in a 20x20 pixel box while preserving their aspect ratio. The resulting images contain grey levels as a result of the anti-aliasing technique used by the normalization algorithm. the images were centered in a 28x28 image by computing the center of mass of the pixels, and translating the image so as to position this point at the center of the 28x28 field.  \\n\\nWith some classification methods (particularly template-based methods, such as SVM and K-nearest neighbors), the error rate improves when the digits are centered by bounding box rather than center of mass. If you do this kind of pre-processing, you should report it in your publications. The MNIST database was constructed from NIST's NIST originally designated SD-3 as their training set and SD-1 as their test set. However, SD-3 is much cleaner and easier to recognize than SD-1. The reason for this can be found on the fact that SD-3 was collected among Census Bureau employees, while SD-1 was collected among high-school students. Drawing sensible conclusions from learning experiments requires that the result be independent of the choice of training set and test among the complete set of samples. Therefore it was necessary to build a new database by mixing NIST's datasets.  \\n\\nThe MNIST training set is composed of 30,000 patterns from SD-3 and 30,000 patterns from SD-1. Our test set was composed of 5,000 patterns from SD-3 and 5,000 patterns from SD-1. The 60,000 pattern training set contained examples from approximately 250 writers. We made sure that the sets of writers of the training set and test set were disjoint. SD-1 contains 58,527 digit images written by 500 different writers. In contrast to SD-3, where blocks of data from each writer appeared in sequence, the data in SD-1 is scrambled. Writer identities for SD-1 is available and we used this information to unscramble the writers. We then split SD-1 in two: characters written by the first 250 writers went into our new training set. The remaining 250 writers were placed in our test set. Thus we had two sets with nearly 30,000 examples each. The new training set was completed with enough examples from SD-3, starting at pattern # 0, to make a full set of 60,000 training patterns. Similarly, the new test set was completed with SD-3 examples starting at pattern # 35,000 to make a full set with 60,000 test patterns. Only a subset of 10,000 test images (5,000 from SD-1 and 5,000 from SD-3) is available on this site. The full 60,000 sample training set is available.\\n\\nDownloaded from openml.org.\", 'details': {'id': '554', 'name': 'mnist_784', 'version': '1', 'description_version': '1', 'format': 'ARFF', 'creator': ['Yann LeCun', 'Corinna Cortes', 'Christopher J.C. Burges'], 'upload_date': '2014-09-29T03:28:38', 'language': 'English', 'licence': 'Public', 'url': 'https://www.openml.org/data/v1/download/52667/mnist_784.arff', 'file_id': '52667', 'default_target_attribute': 'class', 'tag': ['AzurePilot', 'OpenML-CC18', 'OpenML100', 'study_1', 'study_123', 'study_41', 'study_99', 'vision'], 'visibility': 'public', 'minio_url': 'http://openml1.win.tue.nl/dataset554/dataset_554.pq', 'status': 'active', 'processing_date': '2020-11-20 20:12:09', 'md5_checksum': '0298d579eb1b86163de7723944c7e495'}, 'url': 'https://www.openml.org/d/554'}\n"
     ]
    }
   ],
   "source": [
    "print(mnist) # output is a dictionary"
   ]
  },
  {
   "cell_type": "code",
   "execution_count": 5,
   "id": "008d63ea",
   "metadata": {},
   "outputs": [
    {
     "name": "stdout",
     "output_type": "stream",
     "text": [
      "dict_keys(['data', 'target', 'frame', 'categories', 'feature_names', 'target_names', 'DESCR', 'details', 'url'])\n"
     ]
    }
   ],
   "source": [
    "print(mnist.keys())"
   ]
  },
  {
   "cell_type": "code",
   "execution_count": 6,
   "id": "78bdd09c",
   "metadata": {},
   "outputs": [
    {
     "name": "stdout",
     "output_type": "stream",
     "text": [
      "<class 'dict_keys'>\n"
     ]
    }
   ],
   "source": [
    "print(type(mnist.keys()))"
   ]
  },
  {
   "cell_type": "code",
   "execution_count": 7,
   "id": "02bdd0f3",
   "metadata": {},
   "outputs": [],
   "source": [
    "#print(mnist.DESCR) #Displays Information about the dataset\n",
    "#print(mnist['DESCR'])# does same as above line of code"
   ]
  },
  {
   "cell_type": "code",
   "execution_count": 8,
   "id": "63e13ea8",
   "metadata": {},
   "outputs": [],
   "source": [
    "x,y= mnist['data'],mnist['target'] # Splitting data and target into variable x and y respectively"
   ]
  },
  {
   "cell_type": "code",
   "execution_count": 9,
   "id": "a31c1b91",
   "metadata": {},
   "outputs": [
    {
     "name": "stdout",
     "output_type": "stream",
     "text": [
      "<class 'numpy.ndarray'> <class 'numpy.ndarray'>\n"
     ]
    }
   ],
   "source": [
    "print(type(x),type(y))"
   ]
  },
  {
   "cell_type": "code",
   "execution_count": 10,
   "id": "11f7e7ad",
   "metadata": {},
   "outputs": [
    {
     "name": "stdout",
     "output_type": "stream",
     "text": [
      "(70000, 784) (70000,)\n"
     ]
    }
   ],
   "source": [
    "print(x.shape,y.shape)"
   ]
  },
  {
   "cell_type": "markdown",
   "id": "410b6f50",
   "metadata": {},
   "source": [
    "## For Plotting some Images"
   ]
  },
  {
   "cell_type": "code",
   "execution_count": 11,
   "id": "38c654e6",
   "metadata": {},
   "outputs": [],
   "source": [
    "p = np.random.permutation(len(x)) # Generating random indexes"
   ]
  },
  {
   "cell_type": "code",
   "execution_count": 12,
   "id": "299cc798",
   "metadata": {},
   "outputs": [],
   "source": [
    "p = p[:20] #selecting first 20 numbers from p array and putting it inside p"
   ]
  },
  {
   "cell_type": "code",
   "execution_count": 13,
   "id": "a2fb5ebd",
   "metadata": {},
   "outputs": [
    {
     "name": "stdout",
     "output_type": "stream",
     "text": [
      "[17341 49093 63769 41581 23969 48658 43331 36444 49887  5487 11815 40012\n",
      " 11931 10999 28554 48040  2707 61884 69947  9334]\n"
     ]
    }
   ],
   "source": [
    "print(p)"
   ]
  },
  {
   "cell_type": "code",
   "execution_count": 14,
   "id": "a2b33b5d",
   "metadata": {},
   "outputs": [
    {
     "name": "stdout",
     "output_type": "stream",
     "text": [
      "<class 'numpy.ndarray'>\n"
     ]
    }
   ],
   "source": [
    "print(type(p))"
   ]
  },
  {
   "cell_type": "code",
   "execution_count": 15,
   "id": "69fc93f4",
   "metadata": {},
   "outputs": [
    {
     "name": "stdout",
     "output_type": "stream",
     "text": [
      "int32\n"
     ]
    }
   ],
   "source": [
    "print(p.dtype)"
   ]
  },
  {
   "cell_type": "markdown",
   "id": "a190da6c",
   "metadata": {},
   "source": [
    "## Image plotting Function"
   ]
  },
  {
   "cell_type": "code",
   "execution_count": 16,
   "id": "32fda2a6",
   "metadata": {},
   "outputs": [],
   "source": [
    "pixels_of_images = x[p] # Inserting 20 numpy array elements whose index is given by numpy array p into pixels_of_images variable\n",
    "labels_of_images = y[p] # Inserting the labels of those selected 20 images into labels_of_images variable"
   ]
  },
  {
   "cell_type": "code",
   "execution_count": 17,
   "id": "93b435e8",
   "metadata": {},
   "outputs": [],
   "source": [
    "# We will be displaying 20 images from mnist dataset\n",
    "# So creating a function that will diplay 20 images using matplotlib\n",
    "\n",
    "def plot_images(images,labels):\n",
    "    # images parameter will be a 2-d numpy array of shape 28*28 of 20 images\n",
    "    # labels parameter will be a 1-d numpy array of those 20 images\n",
    "    n_cols = 5\n",
    "    n_rows = 4\n",
    "    fig=plt.figure(figsize=(8,8))\n",
    "\n",
    "    for i in range(n_rows*n_cols):\n",
    "        sp =fig.add_subplot(n_rows , n_cols,i+1)\n",
    "        plt.axis(\"off\")\n",
    "        plt.imshow(images[i],cmap= matplotlib.cm.binary,interpolation = \"nearest\")\n",
    "        sp.set_title(\"Label : {}\".format(labels[i]))\n",
    "    plt.show()"
   ]
  },
  {
   "cell_type": "markdown",
   "id": "441c7603",
   "metadata": {},
   "source": [
    "## Displaying some images and their labels"
   ]
  },
  {
   "cell_type": "code",
   "execution_count": 18,
   "id": "dc7f14d2",
   "metadata": {
    "scrolled": true
   },
   "outputs": [
    {
     "name": "stdout",
     "output_type": "stream",
     "text": [
      "(20, 784)\n"
     ]
    }
   ],
   "source": [
    "print(pixels_of_images.shape)\n",
    "poi = pixels_of_images.reshape(-1,28,28) # Reshaping our 2-dimensional numpy array into 3-dimensional of shape 20*28*28"
   ]
  },
  {
   "cell_type": "code",
   "execution_count": 20,
   "id": "e2947d5b",
   "metadata": {},
   "outputs": [
    {
     "data": {
      "image/png": "[encoded data removed]",
      "text/plain": [
       "<Figure size 576x576 with 20 Axes>"
      ]
     },
     "metadata": {
      "needs_background": "light"
     },
     "output_type": "display_data"
    }
   ],
   "source": [
    "#plotting images\n",
    "plot_images(poi,labels_of_images)"
   ]
  },
  {
   "cell_type": "markdown",
   "id": "b274eee0",
   "metadata": {},
   "source": [
    "## Preparing training and test dataset"
   ]
  },
  {
   "cell_type": "code",
   "execution_count": 21,
   "id": "ac46efd2",
   "metadata": {},
   "outputs": [],
   "source": [
    "# importing train_test_split class from model_selection.py of sklearn packadge or library\n",
    "from sklearn.model_selection import train_test_split\n",
    "\n",
    "# splitting x and y into train_x, test_x and train_y,test_y such that 10 percent of the data \n",
    "# reserved or inserted into test_x and test_y for testing the model\n",
    "train_x,test_x,train_y,test_y= train_test_split(x,y,test_size= 0.10) "
   ]
  },
  {
   "cell_type": "code",
   "execution_count": 22,
   "id": "055bfda6",
   "metadata": {},
   "outputs": [
    {
     "name": "stdout",
     "output_type": "stream",
     "text": [
      "<class 'numpy.ndarray'> <class 'numpy.ndarray'> <class 'numpy.ndarray'> <class 'numpy.ndarray'>\n"
     ]
    }
   ],
   "source": [
    "print(type(train_x),type(test_x),type(train_y),type(test_y))"
   ]
  },
  {
   "cell_type": "code",
   "execution_count": 23,
   "id": "27f06254",
   "metadata": {},
   "outputs": [
    {
     "name": "stdout",
     "output_type": "stream",
     "text": [
      "length of train_x =  63000\n",
      "length of train_y =  63000\n",
      "length of test_x =  7000\n",
      "length of test_x =  7000\n"
     ]
    }
   ],
   "source": [
    "print(\"length of train_x = \",len(train_x)) # no of images in train_x\n",
    "print(\"length of train_y = \",len(train_y)) # no of labels of images in train_y\n",
    "print(\"length of test_x = \",len(test_x)) # no of images in test_x\n",
    "print(\"length of test_x = \",len(test_y)) # no of labels of images in test_x"
   ]
  },
  {
   "cell_type": "markdown",
   "id": "36ae93cf",
   "metadata": {},
   "source": [
    "## Pixels of test images\n"
   ]
  },
  {
   "cell_type": "code",
   "execution_count": 25,
   "id": "3313e0f1",
   "metadata": {},
   "outputs": [
    {
     "name": "stdout",
     "output_type": "stream",
     "text": [
      "<class 'numpy.ndarray'>\n",
      "[4370  376 1805 5720 6177 2257 6147 2140 6066 6501 6166  651 6265 5915\n",
      " 4121 5161 3605  849 3996 4401]\n"
     ]
    }
   ],
   "source": [
    "i = np.random.permutation(7000)  # creating a numpy of length 7000 containing numbers from 0 to 6999 in random fashion\n",
    "print(type(i)) \n",
    "i = i[:20] # selecting the first 20 numbers or items from i\n",
    "print(i)"
   ]
  },
  {
   "cell_type": "code",
   "execution_count": 26,
   "id": "2eba07cd",
   "metadata": {},
   "outputs": [],
   "source": [
    "## Reshaping the "
   ]
  },
  {
   "cell_type": "code",
   "execution_count": 27,
   "id": "ed464328",
   "metadata": {},
   "outputs": [],
   "source": [
    "pixels_of_test_images = test_x[i] # inserting pixels of those 20 images whose indexes are in i\n",
    "poti = pixels_of_test_images.reshape(-1,28,28)"
   ]
  },
  {
   "cell_type": "markdown",
   "id": "eca9fe40",
   "metadata": {},
   "source": [
    "# Applying different classification machine learning algorithms"
   ]
  },
  {
   "cell_type": "markdown",
   "id": "007b3c35",
   "metadata": {},
   "source": [
    "## 1. Logistic regression classifier"
   ]
  },
  {
   "cell_type": "code",
   "execution_count": 28,
   "id": "50f6f77f",
   "metadata": {},
   "outputs": [
    {
     "name": "stderr",
     "output_type": "stream",
     "text": [
      "C:\\Users\\ASUS\\anaconda3\\lib\\site-packages\\sklearn\\linear_model\\_logistic.py:763: ConvergenceWarning: lbfgs failed to converge (status=1):\n",
      "STOP: TOTAL NO. of ITERATIONS REACHED LIMIT.\n",
      "\n",
      "Increase the number of iterations (max_iter) or scale the data as shown in:\n",
      "    https://scikit-learn.org/stable/modules/preprocessing.html\n",
      "Please also refer to the documentation for alternative solver options:\n",
      "    https://scikit-learn.org/stable/modules/linear_model.html#logistic-regression\n",
      "  n_iter_i = _check_optimize_result(\n"
     ]
    },
    {
     "data": {
      "text/plain": [
       "LogisticRegression()"
      ]
     },
     "execution_count": 28,
     "metadata": {},
     "output_type": "execute_result"
    }
   ],
   "source": [
    "from sklearn.linear_model import LogisticRegression # importing logistic regression classifier or algorithm\n",
    "LGR_clsfr = LogisticRegression() # creating a logistic regression classifier or object\n",
    "LGR_clsfr.fit(train_x,train_y) # Giving train_x and train_y to fit() method to train the model"
   ]
  },
  {
   "cell_type": "code",
   "execution_count": 29,
   "id": "1ea32dff",
   "metadata": {},
   "outputs": [
    {
     "data": {
      "text/plain": [
       "0.9205714285714286"
      ]
     },
     "execution_count": 29,
     "metadata": {},
     "output_type": "execute_result"
    }
   ],
   "source": [
    "LGR_clsfr.score(test_x,test_y) # Checking the accuracy of our model"
   ]
  },
  {
   "cell_type": "code",
   "execution_count": 31,
   "id": "a7993a9e",
   "metadata": {},
   "outputs": [
    {
     "name": "stdout",
     "output_type": "stream",
     "text": [
      "<class 'numpy.ndarray'>\n",
      "7000\n"
     ]
    }
   ],
   "source": [
    "LGR_pred = LGR_clsfr.predict(test_x) # inserting the labels predicted of test_x by linear regression model into LR_pred \n",
    "print(type(LGR_pred)) \n",
    "print(len(LGR_pred))"
   ]
  },
  {
   "cell_type": "code",
   "execution_count": 32,
   "id": "fcffb9f4",
   "metadata": {},
   "outputs": [],
   "source": [
    "LGR_pred_20 = LGR_pred[i]"
   ]
  },
  {
   "cell_type": "markdown",
   "id": "3066bf28",
   "metadata": {},
   "source": [
    "## Test images and their labels predicted by LR_clsfr"
   ]
  },
  {
   "cell_type": "code",
   "execution_count": 33,
   "id": "6f5abf42",
   "metadata": {},
   "outputs": [
    {
     "data": {
      "image/png": "[encoded data removed]",
      "text/plain": [
       "<Figure size 576x576 with 20 Axes>"
      ]
     },
     "metadata": {
      "needs_background": "light"
     },
     "output_type": "display_data"
    }
   ],
   "source": [
    "plot_images(poti,LGR_pred_20)"
   ]
  },
  {
   "cell_type": "code",
   "execution_count": 34,
   "id": "676adc56",
   "metadata": {},
   "outputs": [
    {
     "name": "stdout",
     "output_type": "stream",
     "text": [
      "              precision    recall  f1-score   support\n",
      "\n",
      "           0       0.96      0.98      0.97       673\n",
      "           1       0.96      0.98      0.97       800\n",
      "           2       0.92      0.91      0.91       713\n",
      "           3       0.92      0.88      0.90       685\n",
      "           4       0.93      0.93      0.93       687\n",
      "           5       0.90      0.85      0.87       626\n",
      "           6       0.93      0.95      0.94       674\n",
      "           7       0.93      0.92      0.93       755\n",
      "           8       0.87      0.88      0.87       689\n",
      "           9       0.89      0.91      0.90       698\n",
      "\n",
      "    accuracy                           0.92      7000\n",
      "   macro avg       0.92      0.92      0.92      7000\n",
      "weighted avg       0.92      0.92      0.92      7000\n",
      "\n"
     ]
    }
   ],
   "source": [
    "from sklearn.metrics import classification_report\n",
    "print(classification_report(test_y,LGR_pred))"
   ]
  },
  {
   "cell_type": "markdown",
   "id": "1c6f854a",
   "metadata": {},
   "source": [
    "## 2. Decision Tree  "
   ]
  },
  {
   "cell_type": "code",
   "execution_count": 35,
   "id": "e3a3f524",
   "metadata": {},
   "outputs": [
    {
     "data": {
      "text/plain": [
       "DecisionTreeClassifier()"
      ]
     },
     "execution_count": 35,
     "metadata": {},
     "output_type": "execute_result"
    }
   ],
   "source": [
    "from sklearn import tree # importing tree.py from sklearn package\n",
    "DT_clsfr = tree.DecisionTreeClassifier()\n",
    "DT_clsfr.fit(train_x,train_y)"
   ]
  },
  {
   "cell_type": "code",
   "execution_count": 36,
   "id": "43edf6b1",
   "metadata": {},
   "outputs": [
    {
     "data": {
      "text/plain": [
       "0.873"
      ]
     },
     "execution_count": 36,
     "metadata": {},
     "output_type": "execute_result"
    }
   ],
   "source": [
    "DT_clsfr.score(test_x,test_y)"
   ]
  },
  {
   "cell_type": "code",
   "execution_count": 43,
   "id": "53acb7de",
   "metadata": {},
   "outputs": [],
   "source": [
    "DT_pred = DT_clsfr.predict(test_x)"
   ]
  },
  {
   "cell_type": "code",
   "execution_count": 44,
   "id": "1e1419de",
   "metadata": {},
   "outputs": [
    {
     "name": "stdout",
     "output_type": "stream",
     "text": [
      "              precision    recall  f1-score   support\n",
      "\n",
      "           0       0.93      0.92      0.92       673\n",
      "           1       0.96      0.96      0.96       800\n",
      "           2       0.84      0.86      0.85       713\n",
      "           3       0.81      0.83      0.82       685\n",
      "           4       0.86      0.88      0.87       687\n",
      "           5       0.83      0.85      0.84       626\n",
      "           6       0.90      0.87      0.89       674\n",
      "           7       0.92      0.90      0.91       755\n",
      "           8       0.84      0.80      0.82       689\n",
      "           9       0.83      0.85      0.84       698\n",
      "\n",
      "    accuracy                           0.87      7000\n",
      "   macro avg       0.87      0.87      0.87      7000\n",
      "weighted avg       0.87      0.87      0.87      7000\n",
      "\n"
     ]
    }
   ],
   "source": [
    "print(classification_report(test_y,DT_pred))"
   ]
  },
  {
   "cell_type": "code",
   "execution_count": 45,
   "id": "402b4981",
   "metadata": {},
   "outputs": [
    {
     "name": "stdout",
     "output_type": "stream",
     "text": [
      "[4370  376 1805 5720 6177 2257 6147 2140 6066 6501 6166  651 6265 5915\n",
      " 4121 5161 3605  849 3996 4401]\n"
     ]
    }
   ],
   "source": [
    "print(i)\n",
    "DT_pred_20 = DT_pred[i] # selecting 20 random images"
   ]
  },
  {
   "cell_type": "code",
   "execution_count": 46,
   "id": "db677852",
   "metadata": {},
   "outputs": [
    {
     "data": {
      "image/png": "[encoded data removed]",
      "text/plain": [
       "<Figure size 576x576 with 20 Axes>"
      ]
     },
     "metadata": {
      "needs_background": "light"
     },
     "output_type": "display_data"
    }
   ],
   "source": [
    "plot_images(poti,DT_pred_20)"
   ]
  },
  {
   "cell_type": "markdown",
   "id": "8e330f71",
   "metadata": {},
   "source": [
    "## 3.Random Forest "
   ]
  },
  {
   "cell_type": "code",
   "execution_count": 47,
   "id": "1c163a9f",
   "metadata": {},
   "outputs": [
    {
     "data": {
      "text/plain": [
       "RandomForestClassifier()"
      ]
     },
     "execution_count": 47,
     "metadata": {},
     "output_type": "execute_result"
    }
   ],
   "source": [
    "from sklearn.ensemble import RandomForestClassifier\n",
    "RF_clsfr= RandomForestClassifier()\n",
    "RF_clsfr.fit(train_x,train_y)"
   ]
  },
  {
   "cell_type": "code",
   "execution_count": 48,
   "id": "62133293",
   "metadata": {},
   "outputs": [
    {
     "name": "stdout",
     "output_type": "stream",
     "text": [
      "              precision    recall  f1-score   support\n",
      "\n",
      "           0       0.98      0.99      0.99       673\n",
      "           1       0.98      0.99      0.99       800\n",
      "           2       0.97      0.98      0.97       713\n",
      "           3       0.96      0.95      0.95       685\n",
      "           4       0.98      0.98      0.98       687\n",
      "           5       0.96      0.95      0.96       626\n",
      "           6       0.98      0.98      0.98       674\n",
      "           7       0.97      0.97      0.97       755\n",
      "           8       0.95      0.96      0.95       689\n",
      "           9       0.96      0.96      0.96       698\n",
      "\n",
      "    accuracy                           0.97      7000\n",
      "   macro avg       0.97      0.97      0.97      7000\n",
      "weighted avg       0.97      0.97      0.97      7000\n",
      "\n"
     ]
    }
   ],
   "source": [
    "RF_clsfr.score(test_x,test_y)\n",
    "RF_pred = RF_clsfr.predict(test_x)\n",
    "print(classification_report(test_y,RF_pred))"
   ]
  },
  {
   "cell_type": "code",
   "execution_count": 49,
   "id": "0e977698",
   "metadata": {},
   "outputs": [
    {
     "data": {
      "image/png": "[encoded data removed]",
      "text/plain": [
       "<Figure size 576x576 with 20 Axes>"
      ]
     },
     "metadata": {
      "needs_background": "light"
     },
     "output_type": "display_data"
    }
   ],
   "source": [
    "RF_pred_20 = RF_pred[i]\n",
    "plot_images(poti,RF_pred_20)"
   ]
  },
  {
   "cell_type": "markdown",
   "id": "c264c446",
   "metadata": {},
   "source": [
    "## 4.Support vector machine"
   ]
  },
  {
   "cell_type": "code",
   "execution_count": 50,
   "id": "c5fe7cde",
   "metadata": {},
   "outputs": [
    {
     "data": {
      "text/plain": [
       "0.9801428571428571"
      ]
     },
     "execution_count": 50,
     "metadata": {},
     "output_type": "execute_result"
    }
   ],
   "source": [
    "from sklearn.svm import SVC\n",
    "SVC_clsfr = SVC()\n",
    "SVC_clsfr.fit(train_x,train_y)\n",
    "SVC_clsfr.score(test_x,test_y)"
   ]
  },
  {
   "cell_type": "code",
   "execution_count": 52,
   "id": "021e2e47",
   "metadata": {},
   "outputs": [],
   "source": [
    "SVM_pred= SVC_clsfr.predict(test_x)\n",
    "SVM_pred_20 = SVM_pred[i]"
   ]
  },
  {
   "cell_type": "code",
   "execution_count": 53,
   "id": "93c9a038",
   "metadata": {},
   "outputs": [
    {
     "name": "stdout",
     "output_type": "stream",
     "text": [
      "              precision    recall  f1-score   support\n",
      "\n",
      "           0       0.99      1.00      0.99       673\n",
      "           1       0.98      0.99      0.99       800\n",
      "           2       0.97      0.99      0.98       713\n",
      "           3       0.98      0.96      0.97       685\n",
      "           4       0.98      0.99      0.99       687\n",
      "           5       0.98      0.97      0.97       626\n",
      "           6       0.99      0.99      0.99       674\n",
      "           7       0.98      0.97      0.98       755\n",
      "           8       0.98      0.97      0.98       689\n",
      "           9       0.97      0.97      0.97       698\n",
      "\n",
      "    accuracy                           0.98      7000\n",
      "   macro avg       0.98      0.98      0.98      7000\n",
      "weighted avg       0.98      0.98      0.98      7000\n",
      "\n"
     ]
    }
   ],
   "source": [
    "print(classification_report(test_y,SVM_pred))"
   ]
  },
  {
   "cell_type": "code",
   "execution_count": 54,
   "id": "0af83338",
   "metadata": {},
   "outputs": [
    {
     "data": {
      "image/png": "[encoded data removed]",
      "text/plain": [
       "<Figure size 576x576 with 20 Axes>"
      ]
     },
     "metadata": {
      "needs_background": "light"
     },
     "output_type": "display_data"
    }
   ],
   "source": [
    "plot_images(poti,SVM_pred_20)"
   ]
  },
  {
   "cell_type": "code",
   "execution_count": null,
   "id": "9eddef03",
   "metadata": {},
   "outputs": [],
   "source": []
  }
 ],
 "metadata": {
  "kernelspec": {
   "display_name": "Python 3",
   "language": "python",
   "name": "python3"
  },
  "language_info": {
   "codemirror_mode": {
    "name": "ipython",
    "version": 3
   },
   "file_extension": ".py",
   "mimetype": "text/x-python",
   "name": "python",
   "nbconvert_exporter": "python",
   "pygments_lexer": "ipython3",
   "version": "3.8.8"
  }
 },
 "nbformat": 4,
 "nbformat_minor": 5
}
